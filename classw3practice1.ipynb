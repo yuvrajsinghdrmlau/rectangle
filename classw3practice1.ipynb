{
 "cells": [
  {
   "cell_type": "code",
   "execution_count": 1,
   "id": "bc932da8-f113-4dfa-8e0f-60dfc37c1fc0",
   "metadata": {},
   "outputs": [],
   "source": [
    "class myclass:\n",
    "    std = 5"
   ]
  },
  {
   "cell_type": "code",
   "execution_count": 2,
   "id": "d4cd1864-fccf-4c00-8d38-58d85b26cd46",
   "metadata": {},
   "outputs": [
    {
     "data": {
      "text/plain": [
       "__main__.myclass"
      ]
     },
     "execution_count": 2,
     "metadata": {},
     "output_type": "execute_result"
    }
   ],
   "source": [
    "myclass"
   ]
  },
  {
   "cell_type": "code",
   "execution_count": 3,
   "id": "96fc323e-79d0-4f86-a9aa-81a68049ed3f",
   "metadata": {},
   "outputs": [
    {
     "data": {
      "text/plain": [
       "<__main__.myclass at 0x1496d0d7410>"
      ]
     },
     "execution_count": 3,
     "metadata": {},
     "output_type": "execute_result"
    }
   ],
   "source": [
    "myclass()"
   ]
  },
  {
   "cell_type": "code",
   "execution_count": 5,
   "id": "7fd9210f-2636-45a6-901f-a35164919ae1",
   "metadata": {},
   "outputs": [
    {
     "name": "stdout",
     "output_type": "stream",
     "text": [
      "5\n"
     ]
    }
   ],
   "source": [
    "p1 = myclass()\n",
    "print(p1.std )"
   ]
  },
  {
   "cell_type": "code",
   "execution_count": 6,
   "id": "aa0e7264-2855-42a6-999d-c9ceed6f2a38",
   "metadata": {},
   "outputs": [],
   "source": [
    "voyager = myclass()\n"
   ]
  },
  {
   "cell_type": "code",
   "execution_count": 7,
   "id": "7d397735-c57a-4ec3-b5fa-f2381ce7ec04",
   "metadata": {},
   "outputs": [
    {
     "name": "stdout",
     "output_type": "stream",
     "text": [
      "5\n"
     ]
    }
   ],
   "source": [
    "print(voyager.std)"
   ]
  },
  {
   "cell_type": "code",
   "execution_count": 18,
   "id": "22841153-94e2-402b-8be7-60754911221f",
   "metadata": {},
   "outputs": [],
   "source": [
    "class person:\n",
    "    def __init__(self,name,age):\n",
    "        self.name = name\n",
    "        self.age = age\n",
    "\n",
    "    def __str__(self):\n",
    "        return f\"{self.name}({self.age})\"\n",
    "\n",
    "p_1 = person(\"himraj\",33)"
   ]
  },
  {
   "cell_type": "code",
   "execution_count": 9,
   "id": "a810a69a-00e4-4139-a225-697cafbbc5ce",
   "metadata": {},
   "outputs": [
    {
     "name": "stdout",
     "output_type": "stream",
     "text": [
      "33\n"
     ]
    }
   ],
   "source": [
    "print(p_1.age)"
   ]
  },
  {
   "cell_type": "code",
   "execution_count": 19,
   "id": "c7c6c7c8-c88c-4546-bda2-e1efeebf89a6",
   "metadata": {},
   "outputs": [],
   "source": [
    "p2 = person(\"johnatan\",32)"
   ]
  },
  {
   "cell_type": "code",
   "execution_count": 12,
   "id": "20c319ed-2bec-4e91-b093-23383aac8bc1",
   "metadata": {},
   "outputs": [
    {
     "data": {
      "text/plain": [
       "'johnatan'"
      ]
     },
     "execution_count": 12,
     "metadata": {},
     "output_type": "execute_result"
    }
   ],
   "source": [
    "p2.name"
   ]
  },
  {
   "cell_type": "code",
   "execution_count": 20,
   "id": "63284396-d2b4-47bb-a4f9-9319af288315",
   "metadata": {},
   "outputs": [
    {
     "name": "stdout",
     "output_type": "stream",
     "text": [
      "johnatan(32)\n"
     ]
    }
   ],
   "source": [
    "print(p2)"
   ]
  },
  {
   "cell_type": "code",
   "execution_count": 46,
   "id": "e7cb413b-d4b2-457c-9984-328bef9e449d",
   "metadata": {},
   "outputs": [
    {
     "name": "stderr",
     "output_type": "stream",
     "text": [
      "<>:7: SyntaxWarning: 'int' object is not callable; perhaps you missed a comma?\n",
      "<>:7: SyntaxWarning: 'int' object is not callable; perhaps you missed a comma?\n",
      "C:\\Users\\HP\\AppData\\Local\\Temp\\ipykernel_23496\\917145331.py:7: SyntaxWarning: 'int' object is not callable; perhaps you missed a comma?\n",
      "  perimeter = 2(self.smallside + self.largeside)\n"
     ]
    }
   ],
   "source": [
    "class rectangle:\n",
    "    def __init__(self,smallside,largeside):\n",
    "        self.smallside = smallside\n",
    "        self.largeside = largeside\n",
    "\n",
    "    def peri(self):\n",
    "        perimeter = 2(self.smallside + self.largeside)\n",
    "        print(perimeter)\n",
    "    def area(self):\n",
    "        areaa = self.smallside * self.largeside\n",
    "        print(areaa)\n",
    "        "
   ]
  },
  {
   "cell_type": "code",
   "execution_count": 52,
   "id": "58ac85c5-947f-45d6-b0ec-3180d7edfe52",
   "metadata": {},
   "outputs": [
    {
     "name": "stdout",
     "output_type": "stream",
     "text": [
      "<__main__.rectangle object at 0x000001496DF05040>\n"
     ]
    }
   ],
   "source": [
    "r1 = rectangle(32,53)\n",
    "\n",
    "print(r1)"
   ]
  },
  {
   "cell_type": "code",
   "execution_count": 49,
   "id": "43d76296-6e51-447e-9ce3-34608163d1c6",
   "metadata": {},
   "outputs": [
    {
     "name": "stdout",
     "output_type": "stream",
     "text": [
      "1696\n"
     ]
    }
   ],
   "source": [
    "r1.area()\n",
    "\n",
    "\n"
   ]
  },
  {
   "cell_type": "code",
   "execution_count": 53,
   "id": "af560b20-2f8e-421c-80f6-34788ee48348",
   "metadata": {},
   "outputs": [
    {
     "ename": "TypeError",
     "evalue": "'int' object is not callable",
     "output_type": "error",
     "traceback": [
      "\u001b[1;31m---------------------------------------------------------------------------\u001b[0m",
      "\u001b[1;31mTypeError\u001b[0m                                 Traceback (most recent call last)",
      "Cell \u001b[1;32mIn[53], line 1\u001b[0m\n\u001b[1;32m----> 1\u001b[0m r1\u001b[38;5;241m.\u001b[39mperi()\n",
      "Cell \u001b[1;32mIn[46], line 7\u001b[0m, in \u001b[0;36mrectangle.peri\u001b[1;34m(self)\u001b[0m\n\u001b[0;32m      6\u001b[0m \u001b[38;5;28;01mdef\u001b[39;00m \u001b[38;5;21mperi\u001b[39m(\u001b[38;5;28mself\u001b[39m):\n\u001b[1;32m----> 7\u001b[0m     perimeter \u001b[38;5;241m=\u001b[39m \u001b[38;5;241m2\u001b[39m(\u001b[38;5;28mself\u001b[39m\u001b[38;5;241m.\u001b[39msmallside \u001b[38;5;241m+\u001b[39m \u001b[38;5;28mself\u001b[39m\u001b[38;5;241m.\u001b[39mlargeside)\n\u001b[0;32m      8\u001b[0m     \u001b[38;5;28mprint\u001b[39m(perimeter)\n",
      "\u001b[1;31mTypeError\u001b[0m: 'int' object is not callable"
     ]
    }
   ],
   "source": [
    "r1.peri()"
   ]
  },
  {
   "cell_type": "code",
   "execution_count": null,
   "id": "eba1b887-97a5-4d25-b725-965893afad6e",
   "metadata": {},
   "outputs": [],
   "source": []
  }
 ],
 "metadata": {
  "kernelspec": {
   "display_name": "Python 3 (ipykernel)",
   "language": "python",
   "name": "python3"
  },
  "language_info": {
   "codemirror_mode": {
    "name": "ipython",
    "version": 3
   },
   "file_extension": ".py",
   "mimetype": "text/x-python",
   "name": "python",
   "nbconvert_exporter": "python",
   "pygments_lexer": "ipython3",
   "version": "3.12.4"
  }
 },
 "nbformat": 4,
 "nbformat_minor": 5
}
